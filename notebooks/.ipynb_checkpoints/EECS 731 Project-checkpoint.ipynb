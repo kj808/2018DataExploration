{
 "cells": [
  {
   "cell_type": "code",
   "execution_count": 30,
   "metadata": {},
   "outputs": [],
   "source": [
    "##\n",
    "## Summary: In the education industry, high schools prep students for the next chapter in his/her life. \n",
    "##    Viewing university statistics and massachusetts high school statistics, \n",
    "##    do patterns exist to show patterns between the number of students in college from high schools \n",
    "##    and the average SAT scores vs average SAT score for universities?\n",
    "##    Is there correlation between school accountability, SAT scores and theoretical acceptance into universities?\n",
    "##    \n",
    "##    The first dataset is:\n",
    "##        \n",
    "##        \n",
    "##        \n",
    "##    The second dataset is:\n",
    "##        \n",
    "##        \n",
    "\n",
    "#Import libraries\n",
    "import pandas as pd\n",
    "import numpy as np\n",
    "import matplotlib.pyplot as plt\n",
    "\n",
    "\n",
    "#Import the first dataset (Massachusetts high school)\n",
    "mshs=pd.read_csv('../data/external/MA_Public_Schools_2017.csv')\n",
    "\n",
    "#Import the second dataset (University data)\n",
    "univ=pd.read_json('../data/external/schoolInfo.json')"
   ]
  },
  {
   "cell_type": "code",
   "execution_count": 31,
   "metadata": {},
   "outputs": [],
   "source": [
    "#Cleaning up MA school data\n",
    "\n",
    "#------------Dropping Columns------------\n",
    "#Drop columns regarding MCAS scores\n",
    "mshsFirst=mshs.iloc[:,0:31].copy()\n",
    "\n",
    "mshsSecond=mshs.iloc[:,93:97].copy()\n",
    "\n",
    "mshsLast=mshs.iloc[:,293:302].copy()\n",
    "\n",
    "#also drop all demographics of students.\n",
    "mshsdemo=mshs.iloc[:,51:53].copy()\n",
    "\n",
    "\n",
    "#merge the tables\n",
    "mshsFinal=mshsFirst.join(mshsdemo, how='outer')\n",
    "mshsFinal=mshsFinal.join(mshsSecond, how='outer')\n",
    "mshsFinal=mshsFinal.join(mshsLast, how='outer')\n",
    "\n",
    "#Dropping...\n",
    "#Function: column 4----1 unique values=MA\n",
    "#Contact name: column 5--- not irrelevant in detecting acceptance to universities\n",
    "#Address 1 & 2: column 6,7---also not irrelevant. Can generalize by town.\n",
    "#Phone and Fax:col 10,11---also not irrelevant\n",
    "\n",
    "mshsFinal=mshsFinal.drop(columns=['School Code','Function','Contact Name','Address 1','Address 2','Phone','Fax','Grade','PK_Enrollment','K_Enrollment', '1_Enrollment',\n",
    "                                  '2_Enrollment','3_Enrollment','4_Enrollment','5_Enrollment','6_Enrollment',\n",
    "                                  '7_Enrollment', '8_Enrollment','9_Enrollment','10_Enrollment','11_Enrollment','Accountability and Assistance Level',\n",
    "                                  'Accountability and Assistance Description','District_Accountability and Assistance Level',\n",
    "                                  'District_Accountability and Assistance Description','Progress and Performance Index (PPI) - High Needs Students',\n",
    "                                  'District_Progress and Performance Index (PPI) - High Needs Students','District Name','District Code',\n",
    "                                 'SP_Enrollment','School Type'])\n",
    "\n",
    "\n",
    "##------------Remove all non high schools or nonenrollment of seniors#------------\n",
    "mshsFinal=mshsFinal[mshsFinal['12_Enrollment'] > 0]\n",
    "\n",
    "#drop the column\n",
    "mshsFinal=mshsFinal.drop(columns=['12_Enrollment'])\n",
    "\n",
    "##------------Remove all rows without SAT data and district performance progress------------\n",
    "mshsFinal=mshsFinal.dropna(subset=['SAT_Tests Taken','School Accountability Percentile (1-99)'])\n",
    "\n",
    "#Remove all rows without average SAT reading and SAT Math\n",
    "mshsFinal=mshsFinal[mshsFinal['Average SAT_Reading']>0]\n",
    "mshsFinal=mshsFinal[mshsFinal['Average SAT_Math']>0]\n",
    "\n",
    "#Output MA Public School data....\n",
    "#mshsFinal"
   ]
  },
  {
   "cell_type": "code",
   "execution_count": 32,
   "metadata": {},
   "outputs": [],
   "source": [
    "#Cleaning up university data\n",
    "\n",
    "#----------Dropping columns----------\n",
    "#aliasNames=not relevant to viewing patterns between high school acceptance based on SAT data and demographics\n",
    "#businessRepScore=most entries are NaN\n",
    "#sortname=not relevant\n",
    "#primaryphoto=not relevant\n",
    "#primary photothumb=not relevant\n",
    "#rankingdisplayname=not relevant\n",
    "#rankingNoteCharacter=not relevant\n",
    "#rankingNoteText=not relevant\n",
    "#sortname=not relevant\n",
    "#urlname=not relevant\n",
    "#xwalkId=not relevant\n",
    "#act-avg=not relevant\n",
    "#all student demographic is not related.\n",
    "#nonresponder and text=not relevant\n",
    "\n",
    "univ=univ.drop(columns=['primaryKey','act-avg','aliasNames','businessRepScore','sortName',\n",
    "                        'primaryPhoto','primaryPhotoThumb','rankingType','rankingMaxPossibleScore',\n",
    "                        'rankingDisplayName','rankingNoteText','rankingNoteCharacter','sortName',\n",
    "                        'urlName','xwalkId','nonResponder','nonResponderText','rankingIsTied',\n",
    "                        'rankingRankStatus','engineeringRepScore','isPublic'])\n",
    "\n",
    "#remove NaN entries in sat-avg\n",
    "univ=univ.dropna(subset=['sat-avg'])\n",
    "\n",
    "#Output university data\n",
    "#univ"
   ]
  },
  {
   "cell_type": "code",
   "execution_count": 33,
   "metadata": {},
   "outputs": [],
   "source": [
    "#----------Transforming High School Data----------\n",
    "#Transform high school public to boolean\n",
    "#The data on school type is public OR charter school.\n",
    "#charter schools seen as public from federal education department\n",
    "mshsFinal['Institutional Control']=True\n",
    "\n",
    "#Change town to city column name\n",
    "mshsFinal.rename(columns={'Town':'City'},inplace=True)\n",
    "\n",
    "#Change TOTAL Enrollment to Enrollment\n",
    "mshsFinal.rename(columns={'TOTAL_Enrollment':'Enrollment'},inplace=True)\n",
    "\n",
    "#Add column categorizing high schools vs universities (will help with merge)\n",
    "mshsFinal.loc[:,'schoolType']=pd.Series('high-school', index=mshsFinal.index, dtype=\"category\")\n",
    "\n",
    "#Adding column and calculating average SAT scores\n",
    "mshsFinal.loc[:,'sat-avg']=mshsFinal['Average SAT_Reading']+mshsFinal['Average SAT_Math']\n",
    "\n",
    "#Change to categories for proper join\n",
    "mshsFinal['schoolType']=mshsFinal['schoolType'].astype(\"category\")\n",
    "mshsFinal['School Name']=mshsFinal['School Name'].astype(\"category\")\n",
    "\n",
    "#Rank high schools in MA based on avg SAT scores\n",
    "mshsFinal=mshsFinal.sort_values(['sat-avg'], ascending=False)\n",
    "#reset index to create incremental ranking\n",
    "mshsFinal=mshsFinal.reset_index()\n",
    "\n",
    "#Start ranking at 1\n",
    "mshsFinal['ranking']=mshsFinal.index+1\n"
   ]
  },
  {
   "cell_type": "code",
   "execution_count": 34,
   "metadata": {},
   "outputs": [],
   "source": [
    "#----------Transforming University Data----------\n",
    "#Change column for university name, city, zip, enrollment, and private/public institution for merge\n",
    "univ.rename(columns={'displayName':'School Name', 'city':'City','zip':'Zip', \n",
    "                     'state':'State','enrollment':'Enrollment',\n",
    "                     'institutionalControl':'Institutional Control'}, inplace=True)\n",
    "\n",
    "#alter column to match column of other dataset\n",
    "univ['schoolType']=univ['schoolType'].astype(\"category\")\n",
    "univ['School Name']=univ['School Name'].astype(\"category\")\n",
    "\n"
   ]
  },
  {
   "cell_type": "code",
   "execution_count": 35,
   "metadata": {},
   "outputs": [],
   "source": [
    "#----------Merge datasets----------\n",
    "result=pd.concat([mshsFinal,univ],axis=0,sort=False )\n",
    "\n",
    "#----------Bin SAT Avg scores----------\n",
    "#The lowest SAT is 600 and highest is 2400\n",
    "bins=[600,800,1000,1200,1400,1600,1800,2000,2200,2400]\n",
    "result['binned_scores']=pd.cut(result['sat-avg'],bins)\n",
    "\n",
    "#----------------Randomize data----------------\n",
    "result=result.sample(frac=1)"
   ]
  },
  {
   "cell_type": "code",
   "execution_count": 43,
   "metadata": {},
   "outputs": [
    {
     "data": {
      "text/plain": [
       "<matplotlib.axes._subplots.AxesSubplot at 0x27a717ebdd8>"
      ]
     },
     "execution_count": 43,
     "metadata": {},
     "output_type": "execute_result"
    },
    {
     "data": {
      "image/png": "[encoded data removed]",
      "text/plain": [
       "<Figure size 432x288 with 1 Axes>"
      ]
     },
     "metadata": {},
     "output_type": "display_data"
    }
   ],
   "source": [
    "##----------------Plot the different average SAT scores of high schools in MA vs Universities----------------\n",
    "#Plot average SAT scores 1 line is high school and 1 line is university\n",
    "#export the sat-avg and School Type\n",
    "SATforType=result[['schoolType','sat-avg']].copy()\n",
    "\n",
    "#Separate high school and university SAT averages\n",
    "SATforHS=SATforType.loc[SATforType['schoolType'] == 'high-school']\n",
    "SATforU=SATforType.loc[SATforType['schoolType'] == 'national-universities']\n",
    "\n",
    "#Create new Dataframe as High School and University average SAT for easy plotting\n",
    "SATforType=pd.DataFrame(data={'High School SAT':SATforHS['sat-avg'], 'University SAT':SATforU['sat-avg']})\n",
    "\n",
    "SATforType.plot.box()\n",
    "\n",
    "#The results show the mean and the box shows 25-75% of the SAT average scores. \n",
    "#Comparing the high schools in MA and ranked universities, one can see the top SAT scores \n",
    "#for MA lacks quite a bit. Furthermore,"
   ]
  },
  {
   "cell_type": "code",
   "execution_count": null,
   "metadata": {},
   "outputs": [],
   "source": [
    "#----------------Viewing number of enrollment vs SAT scores----------------\n",
    "\n"
   ]
  },
  {
   "cell_type": "code",
   "execution_count": null,
   "metadata": {},
   "outputs": [],
   "source": []
  },
  {
   "cell_type": "code",
   "execution_count": null,
   "metadata": {},
   "outputs": [],
   "source": []
  },
  {
   "cell_type": "code",
   "execution_count": null,
   "metadata": {},
   "outputs": [],
   "source": []
  },
  {
   "cell_type": "code",
   "execution_count": null,
   "metadata": {},
   "outputs": [],
   "source": []
  },
  {
   "cell_type": "code",
   "execution_count": 44,
   "metadata": {},
   "outputs": [
    {
     "data": {
      "text/plain": [
       "Index(['index', 'School Name', 'City', 'State', 'Zip', 'Enrollment',\n",
       "       'Average Class Size', 'Number of Students', 'SAT_Tests Taken',\n",
       "       'Average SAT_Reading', 'Average SAT_Writing', 'Average SAT_Math',\n",
       "       'School Accountability Percentile (1-99)',\n",
       "       'Progress and Performance Index (PPI) - All Students',\n",
       "       'District_Progress and Performance Index (PPI) - All Students',\n",
       "       'Institutional Control', 'schoolType', 'sat-avg', 'ranking',\n",
       "       'acceptance-rate', 'cost-after-aid', 'hs-gpa-avg', 'overallRank',\n",
       "       'percent-receiving-aid', 'rankingDisplayRank', 'rankingDisplayScore',\n",
       "       'rankingSortRank', 'region', 'tuition', 'binned_scores'],\n",
       "      dtype='object')"
      ]
     },
     "execution_count": 44,
     "metadata": {},
     "output_type": "execute_result"
    }
   ],
   "source": [
    "result.columns"
   ]
  },
  {
   "cell_type": "code",
   "execution_count": null,
   "metadata": {},
   "outputs": [],
   "source": []
  }
 ],
 "metadata": {
  "kernelspec": {
   "display_name": "Python 3",
   "language": "python",
   "name": "python3"
  },
  "language_info": {
   "codemirror_mode": {
    "name": "ipython",
    "version": 3
   },
   "file_extension": ".py",
   "mimetype": "text/x-python",
   "name": "python",
   "nbconvert_exporter": "python",
   "pygments_lexer": "ipython3",
   "version": "3.6.5"
  }
 },
 "nbformat": 4,
 "nbformat_minor": 2
}
