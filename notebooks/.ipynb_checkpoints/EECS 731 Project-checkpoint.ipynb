{
 "cells": [
  {
   "cell_type": "markdown",
   "metadata": {},
   "source": [
    "# Determining Correlations Between MA High Schools and Universities\n",
    "\n",
    "In the education industry, high schools prep students for the next chapter in his/her life. These skills are measured through SAT scores. Using student data from high schools in Massachusettes and recorded universities, how well prepared are high school students in Massachuesettes for universities in United States. Furthermore, based on enrollment, does a correlation exist with SAT scores? Lastly, is Massachuesettes high school's progress and performance index perform a good indicator based on student's SAT vs university acceptance on averages SAT scores?\n"
   ]
  },
  {
   "cell_type": "code",
   "execution_count": 1,
   "metadata": {},
   "outputs": [],
   "source": [
    "#Import libraries\n",
    "import pandas as pd\n",
    "import numpy as np\n",
    "import matplotlib.pyplot as plt\n",
    "\n",
    "\n",
    "#Import the first dataset (Massachusetts high school)\n",
    "mshs=pd.read_csv('../data/external/MA_Public_Schools_2017.csv')\n",
    "\n",
    "#Import the second dataset (University data)\n",
    "univ=pd.read_json('../data/external/schoolInfo.json')"
   ]
  },
  {
   "cell_type": "markdown",
   "metadata": {},
   "source": [
    "## Cleaning up datasets\n",
    "The goal in mind requires few columns. After dropping unrelated columns, I remove the empty values on highly used data.\n",
    "\n",
    "#### Massachusettes Data Set:\n",
    "1. Drop all columns not related to SAT scores, schoool name, school state and zip location, school type (Private/Public), and PPI. These are the columns we desire to see correlation with university data\n",
    "2. Since we only desire high schools, we view rows with 12th grade enrollment. Then drop this column. We do the same for SAT scores\n",
    "3. Lastly, we remove rows with empty values in PPI scores\n",
    "\n",
    "#### University Data Set:\n",
    "1. Drop all columns not regarding SAT scores, state location, and enrollment.  \n",
    "2. Drop rows with empty values for SAT-avg "
   ]
  },
  {
   "cell_type": "code",
   "execution_count": 2,
   "metadata": {},
   "outputs": [],
   "source": [
    "#Cleaning up MA high school data\n",
    "\n",
    "#------------Dropping Columns------------\n",
    "#Drop columns regarding MCAS scores\n",
    "mshsFirst=mshs.iloc[:,0:31].copy()\n",
    "\n",
    "mshsSecond=mshs.iloc[:,93:97].copy()\n",
    "\n",
    "mshsLast=mshs.iloc[:,293:302].copy()\n",
    "\n",
    "#also drop all demographics of students.\n",
    "mshsdemo=mshs.iloc[:,51:53].copy()\n",
    "\n",
    "\n",
    "#merge the tables\n",
    "mshsFinal=mshsFirst.join(mshsdemo, how='outer')\n",
    "mshsFinal=mshsFinal.join(mshsSecond, how='outer')\n",
    "mshsFinal=mshsFinal.join(mshsLast, how='outer')\n",
    "\n",
    "#Dropping...\n",
    "#Contact name: column 5--- not irrelevant in detecting acceptance to universities\n",
    "#Address 1 & 2: column 6,7---also not irrelevant. Can generalize by state.\n",
    "#Phone and Fax:col 10,11---also not irrelevant\n",
    "\n",
    "mshsFinal=mshsFinal.drop(columns=['School Code','Function','Contact Name','Address 1','Address 2','Phone','Fax','Grade','PK_Enrollment','K_Enrollment', '1_Enrollment',\n",
    "                                  '2_Enrollment','3_Enrollment','4_Enrollment','5_Enrollment','6_Enrollment',\n",
    "                                  '7_Enrollment', '8_Enrollment','9_Enrollment','10_Enrollment','11_Enrollment',\n",
    "                                  'Accountability and Assistance Description','District_Accountability and Assistance Level',\n",
    "                                  'District_Accountability and Assistance Description','Progress and Performance Index (PPI) - High Needs Students',\n",
    "                                  'District_Progress and Performance Index (PPI) - High Needs Students','District Name','District Code',\n",
    "                                 'SP_Enrollment','School Type', 'Town'])\n",
    "\n",
    "\n",
    "##Remove all non high schools or nonenrollment of seniors\n",
    "mshsFinal=mshsFinal[mshsFinal['12_Enrollment'] > 0]\n",
    "\n",
    "#Drop the column\n",
    "mshsFinal=mshsFinal.drop(columns=['12_Enrollment'])\n",
    "\n",
    "##Remove all rows without SAT data and district performance progress\n",
    "mshsFinal=mshsFinal.dropna(subset=['School Accountability Percentile (1-99)'])\n",
    "\n",
    "#Remove all rows without average SAT reading and SAT Math\n",
    "mshsFinal=mshsFinal[mshsFinal['Average SAT_Reading']>0]\n",
    "mshsFinal=mshsFinal[mshsFinal['Average SAT_Math']>0]\n",
    "##-----------------------------------------------------------------------------------------\n",
    "#Cleaning up university data\n",
    "\n",
    "#----------Dropping columns----------\n",
    "#Not relevant\n",
    "univ=univ.drop(columns=['primaryKey','act-avg','aliasNames','businessRepScore','sortName',\n",
    "                        'primaryPhoto','primaryPhotoThumb','rankingType','rankingMaxPossibleScore',\n",
    "                        'rankingDisplayName','rankingNoteText','rankingNoteCharacter','sortName',\n",
    "                        'urlName','xwalkId','nonResponder','nonResponderText','rankingIsTied',\n",
    "                        'rankingRankStatus','engineeringRepScore','isPublic','cost-after-aid', \n",
    "                        'hs-gpa-avg', 'overallRank','percent-receiving-aid', 'rankingDisplayRank', \n",
    "                        'rankingDisplayScore','rankingSortRank','tuition','city'])\n",
    "\n",
    "#remove NaN entries in sat-avg\n",
    "univ=univ.dropna(subset=['sat-avg'])"
   ]
  },
  {
   "cell_type": "markdown",
   "metadata": {},
   "source": [
    "## Transforming Data\n",
    "In order to merge the two datasets, tranformations must occur.\n",
    "\n",
    "#### Massachusettes Data Set:\n",
    "1. I altered the institutional control from a string (public/charter) to True for public and False for private entities. Since only public and charter schools existed in the data set, and charter schools are treated as public from the federal education department, all the values in this column are set to True.\n",
    "2. I also altered the names of columns such that the merge of datasets match with the proper data\n",
    "3. For school types to help distinguish between institutions, 'schoolType' is added and labelled high-school\n",
    "4. Lastly, I determined the average SAT based on high school and reading scores\n",
    "\n",
    "#### University Data Set:\n",
    "1. Columns are renamed to match the MA data set in preparation for merge"
   ]
  },
  {
   "cell_type": "code",
   "execution_count": 3,
   "metadata": {},
   "outputs": [],
   "source": [
    "#----------Transforming High School Data----------\n",
    "#Transform high school public to boolean\n",
    "#The data on school type is public OR charter school.\n",
    "#charter schools seen as public from federal education department\n",
    "mshsFinal['Institutional Control']=True\n",
    "\n",
    "#Change TOTAL Enrollment to Enrollment\n",
    "mshsFinal.rename(columns={'TOTAL_Enrollment':'Enrollment'},inplace=True)\n",
    "\n",
    "#Add column categorizing high schools vs universities (will help with merge)\n",
    "mshsFinal.loc[:,'schoolType']=pd.Series('high-school', index=mshsFinal.index, dtype=\"category\")\n",
    "\n",
    "#Adding column and calculating average SAT scores\n",
    "mshsFinal.loc[:,'sat-avg']=mshsFinal['Average SAT_Reading']+mshsFinal['Average SAT_Math']\n",
    "\n",
    "#----------Transforming University Data----------\n",
    "#Change column for university name, city, zip, enrollment, and private/public institution for merge\n",
    "univ.rename(columns={'displayName':'School Name', 'city':'City','zip':'Zip', \n",
    "                     'state':'State','enrollment':'Enrollment',\n",
    "                     'institutionalControl':'Institutional Control'}, inplace=True)"
   ]
  },
  {
   "cell_type": "markdown",
   "metadata": {},
   "source": [
    "## Merge and Randmization\n",
    "Before plotting, the data is merged and rows are randomized."
   ]
  },
  {
   "cell_type": "code",
   "execution_count": 4,
   "metadata": {},
   "outputs": [],
   "source": [
    "#----------Merge datasets----------\n",
    "result=pd.concat([mshsFinal,univ],axis=0,sort=False )\n",
    "\n",
    "#----------------Randomize data----------------\n",
    "result=result.sample(frac=1)"
   ]
  },
  {
   "cell_type": "markdown",
   "metadata": {},
   "source": [
    "## Results\n",
    "Below are 3 plots with different goals.\n",
    "1. Average SAT scores for MA high schools vs universities in United States\n",
    "2. Average SAT scores for MA high school vs MA universities\n",
    "3. MA high school PPI scores vs MA university SAT scores\n",
    "\n",
    "\n",
    "### SAT for MA HS vs National Universities\n",
    "\n",
    "#### Setup\n",
    "The data needed are SAT scores and school type. School type allows data extraction based on high schools versus universities. Then the data needs repositioning such that two columns exist with sat scores for high schools and another for universities. This allows better understandability in plotting. Lastly, both results contain about 300 entries. This is not a lot of data, but it can be decreased by sampling. I chose 50 columns of high schools and another 50 for universities.\n",
    "\n",
    "#### Analysis\n",
    "When viewing the median, high schools and universities are very similar in numbers. This shows that MA high schools do perform in an acceptable range for university acceptance based on SAT scores. However, there exists a notably 200 point difference between the top range of performing high schools versus the universities. This number shifts a bit with each run due to sampling, but the difference is still significant and consistently lower."
   ]
  },
  {
   "cell_type": "code",
   "execution_count": 5,
   "metadata": {},
   "outputs": [
    {
     "data": {
      "text/plain": [
       "<matplotlib.axes._subplots.AxesSubplot at 0x1c09abaec88>"
      ]
     },
     "execution_count": 5,
     "metadata": {},
     "output_type": "execute_result"
    },
    {
     "data": {
      "image/png": "[encoded data removed]",
      "text/plain": [
       "<Figure size 432x288 with 1 Axes>"
      ]
     },
     "metadata": {},
     "output_type": "display_data"
    }
   ],
   "source": [
    "##----------------Plot the different average SAT scores of high schools in MA vs Universities----------------\n",
    "#Plot average SAT scores 1 line is high school and 1 line is university\n",
    "#export the sat-avg and School Type\n",
    "SATforType=result[['sat-avg','schoolType']].copy()\n",
    "\n",
    "#categorize school type\n",
    "SATforType['schoolType']=SATforType['schoolType'].astype(\"category\")\n",
    "\n",
    "#Sample about 100 data points\n",
    "SATforType=SATforType.sample(n=100)\n",
    "\n",
    "#plot based on school type\n",
    "SATforType.boxplot(by='schoolType')"
   ]
  },
  {
   "cell_type": "markdown",
   "metadata": {},
   "source": [
    "### SAT for MA high school vs MA universities\n",
    "\n",
    "#### Setup\n",
    "The data needed are SAT scores, school type and residing state. Only instituions in MA are considered. Furthermore, data is separated between high schools and universities. Now, the data needs repositioning such that two columns exist where one contains sat scores for high schools and another for universities. This allows better understandability in plotting. Lastly, after filtering data, a vast difference exists between the number of data available where 321 rows for high schools versus 16 rows for universities. To alleviate this vast difference, I sampled 16 data points from the high school set.\n",
    "\n",
    "#### Analysis\n",
    "In contrast to the previous graph, high schools are performing less optimally compared to universities in only MA. The 25th-75th percentile of high school SAT scores represent part of the universities' scores; however, the median of high schools are 200 points lower. Interestingly enough, universities contain a lower threshold of of average scores althought; even though, overall SAT scores in high schools are lower in range and top scores. "
   ]
  },
  {
   "cell_type": "code",
   "execution_count": 6,
   "metadata": {},
   "outputs": [
    {
     "data": {
      "text/plain": [
       "<matplotlib.axes._subplots.AxesSubplot at 0x1c09ac1d048>"
      ]
     },
     "execution_count": 6,
     "metadata": {},
     "output_type": "execute_result"
    },
    {
     "data": {
      "image/png": "[encoded data removed]",
      "text/plain": [
       "<Figure size 432x288 with 1 Axes>"
      ]
     },
     "metadata": {},
     "output_type": "display_data"
    }
   ],
   "source": [
    "##----------------Plot the different average SAT scores of MA high schools in MA universities----------------\n",
    "#Copy dataframe consisting of only avg SAT scores, school type and state\n",
    "SATMA=result[['sat-avg','schoolType','State']].copy()\n",
    "\n",
    "#Ensure only viewing institutions in MA\n",
    "SATMA=SATMA.loc[SATMA['State']=='MA']\n",
    "\n",
    "#Sepearate high schools from universities\n",
    "HSSAT=SATMA.loc[SATMA['schoolType'] == 'high-school'].copy()\n",
    "USAT=SATMA.loc[SATMA['schoolType'] == 'national-universities'].copy()\n",
    "\n",
    "#Create new Dataframe as High School and University are separated with average SAT for easy plotting\n",
    "SATforType=pd.DataFrame(data={'High School SAT':HSSAT['sat-avg'], 'University SAT':USAT['sat-avg']})\n",
    "\n",
    "#Sample SAT from high schools as high schools contain 321 values vs 16 values in universities\n",
    "SATforType['High School SAT']=SATforType['High School SAT'].sample(n=16)\n",
    "SATforType.plot.box()\n"
   ]
  },
  {
   "cell_type": "markdown",
   "metadata": {},
   "source": [
    "### MA high school Accountability and Assistance Level scores vs MA university SAT scores\n",
    "\n",
    "#### Setup\n",
    "Due to plotting based on high school ranking with SAT and university SAT, quite a bit more manipulation is required than the previous two graphs. First, only universities in MA are evaluated. Second, since account/assis levels are created for high schools, in order to distinguish between levels of high schools and universities, this columns is labelled as 'University'. Lastly, a lot of data exist for L1-L3 ranked schools in contrast to L4 and universities. Due to this, I sample 30 data points from each L1-L3 to alleviate this large offset which requires breaking out the data then merging. \n",
    "\n",
    "#### Analysis\n",
    "It is apparent levels of schools present a difference in SAT scores. From level 1 to level 4, the decrease is consistent in SAT scores. Viewing level 4, the lowest ranks shows high schools lacking in education. This problem shows in reported SAT scores. The score range does not overlap with the university range except one reported score. This is seen as an anomaly in the box plot. Viewing layer 3, this overlaps with the 25th-75th percentile of MA universities; however, the median is about 200 points lower than the universities'. This is similar for layer 2 as well, but as stated before, a slight increase exists. Lastly, layer 1 is seen as the better schools in MA thus providing a good education to students. Sadly enough, all medians of high schools are lower than the median SAT scores for universities.\n"
   ]
  },
  {
   "cell_type": "code",
   "execution_count": 7,
   "metadata": {},
   "outputs": [
    {
     "data": {
      "text/plain": [
       "Text(0.5,0,'Levels of Institutions')"
      ]
     },
     "execution_count": 7,
     "metadata": {},
     "output_type": "execute_result"
    },
    {
     "data": {
      "image/png": "[encoded data removed]",
      "text/plain": [
       "<Figure size 432x288 with 1 Axes>"
      ]
     },
     "metadata": {},
     "output_type": "display_data"
    }
   ],
   "source": [
    "##----------------Plot PPI vs SAT----------------\n",
    "#Copy dataframe consisting of only avg SAT scores, school type and state\n",
    "SATMA=result[['sat-avg','schoolType','State', 'Accountability and Assistance Level']].copy()\n",
    "\n",
    "#Ensure only viewing institutions in MA\n",
    "SATMA=SATMA.loc[SATMA['State']=='MA']\n",
    "\n",
    "#Set all universities Account/Assis level to 'University' for easy plotting\n",
    "SATMA['Accountability and Assistance Level'] = np.where(SATMA['schoolType']=='national-universities','University',SATMA['Accountability and Assistance Level'])\n",
    "\n",
    "#Categorize the account/assis level for plotting\n",
    "SATMA['Accountability and Assistance Level']=SATMA['Accountability and Assistance Level'].astype(\"category\")\n",
    "\n",
    "#Need to separate the different levels due to difference in amount of data then sample level 1, level 2 and level 3\n",
    "#HS Level 1 =9x13 rows\n",
    "#HS L2=12x13 rows\n",
    "#HS L3=5x13\n",
    "#HS L4=8\n",
    "#Univ=16\n",
    "#For L1-L3, I chose a sample of 30 as it's less than double the university data. Furthermore, \n",
    "#more samples represent the set better than only 8 or 16. \n",
    "\n",
    "HSL1=SATMA.loc[SATMA['Accountability and Assistance Level'] == 'Level 1'].copy().sample(30)\n",
    "HSL2=SATMA.loc[SATMA['Accountability and Assistance Level'] == 'Level 2'].copy().sample(30)\n",
    "HSL3=SATMA.loc[SATMA['Accountability and Assistance Level'] == 'Level 3'].copy().sample(30)\n",
    "HSL4=SATMA.loc[SATMA['Accountability and Assistance Level'] == 'Level 4'].copy()\n",
    "Univ=SATMA.loc[SATMA['Accountability and Assistance Level'] == 'University'].copy()\n",
    "\n",
    "\n",
    "HSL1=pd.concat([HSL1,HSL2],axis=0,sort=False )\n",
    "HSL1=pd.concat([HSL1,HSL3],axis=0,sort=False )\n",
    "HSL1=pd.concat([HSL1,HSL4],axis=0,sort=False )\n",
    "HSL1=pd.concat([HSL1,Univ],axis=0,sort=False )\n",
    "\n",
    "#Plot the results\n",
    "HSL1.boxplot(by='Accountability and Assistance Level')\n",
    "\n",
    "#Format graph\n",
    "plt.title(\"HS Act/Assis Levels SAT vs University\")\n",
    "plt.suptitle(\"\")\n",
    "plt.ylabel(\"SAT Scores\")\n",
    "plt.xlabel(\"Levels of Institutions\")"
   ]
  },
  {
   "cell_type": "markdown",
   "metadata": {},
   "source": [
    "## Summary\n",
    "\n",
    "Based on the SAT provided by high schools and universities, high schools are on par with universities throughout the nation, but slightly unpar with universities in Massachusettes. Comparing high schools to national universities, the medians greatly overlap. Unfortunately the schools consistently score lower than the median of universities in Massachusettes. Furthermore, the levels of accountability and assistance assigned do correlate with SAT scores such that lower median scores are ranked lower. Even with the highest high school level, the schools perform about average for universities."
   ]
  }
 ],
 "metadata": {
  "kernelspec": {
   "display_name": "Python 3",
   "language": "python",
   "name": "python3"
  },
  "language_info": {
   "codemirror_mode": {
    "name": "ipython",
    "version": 3
   },
   "file_extension": ".py",
   "mimetype": "text/x-python",
   "name": "python",
   "nbconvert_exporter": "python",
   "pygments_lexer": "ipython3",
   "version": "3.6.5"
  }
 },
 "nbformat": 4,
 "nbformat_minor": 2
}
