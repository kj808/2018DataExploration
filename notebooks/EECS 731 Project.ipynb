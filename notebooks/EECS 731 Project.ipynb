{
 "cells": [
  {
   "cell_type": "code",
   "execution_count": null,
   "metadata": {},
   "outputs": [],
   "source": [
    "##\n",
    "## Summary: In the education industry, high schools prep students for the next chapter in his/her life. \n",
    "##    Viewing university statistics and massachusetts high school statistics, \n",
    "##    do patterns exist to show patterns between acceptance rates, SAT scores and demographics?\n",
    "##    \n",
    "##    The first dataset is:\n",
    "##        \n",
    "##        \n",
    "##        \n",
    "##    The second dataset is:\n",
    "##        \n",
    "##        \n",
    "        \n",
    "\n",
    "\n",
    "#Import libraries\n",
    "import pandas as pd\n",
    "import numpy as np\n",
    "import matplotlib.pyplot as plt\n",
    "\n",
    "\n",
    "#Import the first dataset (Massachusetts high school)\n",
    "mshs.read_csv('')\n",
    "\n",
    "#Import the second dataset (University data)\n",
    "univ.read_json('')\n",
    "\n"
   ]
  }
 ],
 "metadata": {
  "kernelspec": {
   "display_name": "Python 3",
   "language": "python",
   "name": "python3"
  },
  "language_info": {
   "codemirror_mode": {
    "name": "ipython",
    "version": 3
   },
   "file_extension": ".py",
   "mimetype": "text/x-python",
   "name": "python",
   "nbconvert_exporter": "python",
   "pygments_lexer": "ipython3",
   "version": "3.6.5"
  }
 },
 "nbformat": 4,
 "nbformat_minor": 2
}
